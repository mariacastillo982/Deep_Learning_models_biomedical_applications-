{
  "nbformat": 4,
  "nbformat_minor": 0,
  "metadata": {
    "colab": {
      "provenance": []
    },
    "kernelspec": {
      "name": "python3",
      "display_name": "Python 3"
    },
    "language_info": {
      "name": "python"
    }
  },
  "cells": [
    {
      "cell_type": "code",
      "source": [
        "!pip install BaselineRemoval"
      ],
      "metadata": {
        "colab": {
          "base_uri": "https://localhost:8080/"
        },
        "id": "1JzrCDlUbEnv",
        "outputId": "b986b58a-b60e-49b3-92c1-23cd69c36476"
      },
      "execution_count": null,
      "outputs": [
        {
          "output_type": "stream",
          "name": "stdout",
          "text": [
            "Collecting BaselineRemoval\n",
            "  Downloading BaselineRemoval-0.1.5-py3-none-any.whl (6.5 kB)\n",
            "Requirement already satisfied: numpy in /usr/local/lib/python3.10/dist-packages (from BaselineRemoval) (1.23.5)\n",
            "Requirement already satisfied: scikit-learn in /usr/local/lib/python3.10/dist-packages (from BaselineRemoval) (1.2.2)\n",
            "Requirement already satisfied: scipy in /usr/local/lib/python3.10/dist-packages (from BaselineRemoval) (1.11.2)\n",
            "Requirement already satisfied: joblib>=1.1.1 in /usr/local/lib/python3.10/dist-packages (from scikit-learn->BaselineRemoval) (1.3.2)\n",
            "Requirement already satisfied: threadpoolctl>=2.0.0 in /usr/local/lib/python3.10/dist-packages (from scikit-learn->BaselineRemoval) (3.2.0)\n",
            "Installing collected packages: BaselineRemoval\n",
            "Successfully installed BaselineRemoval-0.1.5\n"
          ]
        }
      ]
    },
    {
      "cell_type": "code",
      "source": [
        "from BaselineRemoval import BaselineRemoval\n",
        "import numpy as np\n",
        "import pandas as pd\n",
        "\n",
        "def read_file(path):\n",
        "    file=pd.read_excel(path,header=None)\n",
        "    data=file.values\n",
        "    DATA=[]\n",
        "\n",
        "    for d in data:\n",
        "        baseObj=BaselineRemoval(d)\n",
        "        data_p=baseObj.ZhangFit()\n",
        "        DATA.append(data_p)\n",
        "\n",
        "    DATABASE=np.array(DATA)\n",
        "\n",
        "    DATA_N=DATABASE-np.mean(DATABASE)/np.std(DATABASE)\n",
        "    DATA_N=np.expand_dims(DATA_N,2)\n",
        "    return DATA_N\n",
        "\n",
        "def window(Data,ppm):\n",
        "    idx = np.where(ppm < 5)[0]\n",
        "    ppm1=ppm[idx]\n",
        "    idx2 = np.where(ppm1 > 0.49)[0]\n",
        "    ppm2=ppm[idx2]\n",
        "    data=Data[:,idx2]\n",
        "    return data, ppm2"
      ],
      "metadata": {
        "id": "n096GD1SbBVn"
      },
      "execution_count": null,
      "outputs": []
    },
    {
      "cell_type": "code",
      "source": [
        "import numpy as np\n",
        "import pandas as pd\n",
        "import matplotlib.pyplot as plt\n",
        "import tensorflow as tf\n",
        "from tensorflow import keras\n",
        "from keras.models import Sequential\n",
        "from keras.layers import Dropout, Dense\n",
        "from keras.layers import Bidirectional, LSTM\n",
        "from keras.layers import BatchNormalization\n",
        "from sklearn.model_selection import train_test_split\n",
        "#from functions_read_files import read_file, window\n",
        "\n",
        "\n",
        "SCSA_path = \"/content/drive/MyDrive/Lipid Peak/DATA2000/SCSA.xlsx\"\n",
        "MRS_C_path = \"/content/drive/MyDrive/Lipid Peak/DATA2000/MRS_C.xlsx\"\n",
        "ppm_path=\"/content/drive/MyDrive/Lipid Peak/DATA2000/ppm.xlsx\""
      ],
      "metadata": {
        "id": "EJHM6r98aaEr"
      },
      "execution_count": null,
      "outputs": []
    },
    {
      "cell_type": "code",
      "source": [
        "import pickle\n",
        "\n",
        "file = open('/content/drive/MyDrive/Lipid Peak/Real Data/Augmented_MRS_Clean.pckl','rb')\n",
        "Augmented_MRS_Clean = pickle.load(file)\n",
        "file.close()\n",
        "\n",
        "file = open('/content/drive/MyDrive/Lipid Peak/Real Data/Augmented_MRS.pckl','rb')\n",
        "Augmented_MRS = pickle.load(file)\n",
        "file.close()\n",
        "\n"
      ],
      "metadata": {
        "id": "D4LUp69zbkv8"
      },
      "execution_count": null,
      "outputs": []
    },
    {
      "cell_type": "code",
      "source": [
        "class CustomCallback(keras.callbacks.Callback):\n",
        "    def on_epoch_end(self, epoch, logs=None):\n",
        "        self.model.reset_states()\n",
        "\n",
        "def BiLSTM_model():\n",
        "    print('---Creating BiLSTM model---')\n",
        "    model = Sequential()\n",
        "    model.add(Bidirectional(LSTM(256,return_sequences=True),input_shape=(203,1)))\n",
        "    model.add(Dropout(0.5))\n",
        "    model.add(BatchNormalization())\n",
        "\n",
        "    model.add(Bidirectional(LSTM(256,input_shape=(203,1))))\n",
        "    model.add(Dropout(0.5))\n",
        "    model.add(BatchNormalization())\n",
        "    model.add(Dense(203, activation='linear'))\n",
        "    model.compile(loss='mean_squared_error', optimizer=tf.keras.optimizers.Adam(0.00042047358423570646),metrics=['mean_squared_error'])\n",
        "\n",
        "    return model\n",
        "\n",
        "x=read_file(SCSA_path)\n",
        "y=read_file(MRS_C_path)\n",
        "\n",
        "file=pd.read_excel(ppm_path)\n",
        "ppm=file.values\n",
        "ppm=np.array(ppm)\n",
        "\n",
        "x_w, ppm2=window(x,ppm)\n",
        "y_w, ppm2=window(y,ppm)\n"
      ],
      "metadata": {
        "id": "nbDgzjAmbP7s"
      },
      "execution_count": null,
      "outputs": []
    },
    {
      "cell_type": "code",
      "source": [
        "plt.plot(ppm2,x_w[1,:,:])"
      ],
      "metadata": {
        "colab": {
          "base_uri": "https://localhost:8080/",
          "height": 449
        },
        "id": "50vgG6SCbTv9",
        "outputId": "ed873805-3ab3-4dc9-ba87-cb413dd97c50"
      },
      "execution_count": null,
      "outputs": [
        {
          "output_type": "execute_result",
          "data": {
            "text/plain": [
              "[<matplotlib.lines.Line2D at 0x7d2278273130>]"
            ]
          },
          "metadata": {},
          "execution_count": 8
        },
        {
          "output_type": "display_data",
          "data": {
            "text/plain": [
              "<Figure size 640x480 with 1 Axes>"
            ],
            "image/png": "[encoded data removed]"
          },
          "metadata": {}
        }
      ]
    },
    {
      "cell_type": "code",
      "execution_count": null,
      "metadata": {
        "id": "e2i8j6XIaS35"
      },
      "outputs": [],
      "source": [
        "X_train, X_test, y_train, y_test = train_test_split(x_w, y_w, test_size=0.3, random_state=1)\n",
        "model=BiLSTM_model()\n",
        "history=model.fit(X_train, y_train, epochs=5000, batch_size=300, validation_split=0.3, callbacks=[CustomCallback()])\n",
        "\n",
        "\n",
        "plt.plot(history.history['mean_squared_error'])\n",
        "plt.plot(history.history['val_mean_squared_error'])\n",
        "plt.title('model MSE')\n",
        "plt.ylabel('MSE')\n",
        "plt.xlabel('epoch')\n",
        "plt.legend(['train', 'validation'], loc='upper left')\n",
        "plt.savefig('BiLSTM_MSE_out.png')\n",
        "plt.show()\n",
        "\n",
        "# \"Loss\"\n",
        "plt.plot(history.history['loss'])\n",
        "plt.plot(history.history['val_loss'])\n",
        "plt.title('model loss')\n",
        "plt.ylabel('loss')\n",
        "plt.xlabel('epoch')\n",
        "plt.legend(['train', 'validation'], loc='upper left')\n",
        "plt.savefig('BiLSTM_loss_out.png')\n",
        "plt.show()\n",
        "\n",
        "model.evaluate(X_test, y_test, batch_size=100)\n",
        "\n",
        "# Generate reconstructions\n",
        "num_reconstructions = len(X_test)\n",
        "samples = X_test\n",
        "pures = y_test\n",
        "reconstructions = model.predict(samples)\n",
        "fig, axes = plt.subplots(1, 3, figsize=(20, 5))\n",
        "# Plot reconstructions\n",
        "for i in np.arange(0, 3):\n",
        "  # Get the sample and the reconstruction\n",
        "  sample = np.array(samples[i])/np.amax(samples[i])\n",
        "  pure = np.array(pures[i])/np.amax(pures[i])\n",
        "  reconstruction = np.array(reconstructions[i])/np.amax(reconstructions[i])\n",
        "  # Plot sample and reconstruciton\n",
        "  axes[i].plot(ppm2,sample+2,label=\"SCSA output\")\n",
        "  axes[i].plot(ppm2,pure+1, label=\"Ground truth\")\n",
        "  axes[i].plot(ppm2,reconstruction,color='red',label=\"BiLSTM output\")\n",
        "  axes[i].set_xlabel('ppm')\n",
        "  axes[i].legend()\n",
        "\n"
      ]
    }
  ]
}